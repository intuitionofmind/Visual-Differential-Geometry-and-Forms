{
 "cells": [
  {
   "cell_type": "code",
   "execution_count": 36,
   "id": "6eb0186e",
   "metadata": {},
   "outputs": [],
   "source": [
    "import sympy as sp\n",
    "from sympy import pprint, simplify, expand, latex\n",
    "from IPython.display import display\n",
    "from fractions import Fraction\n",
    "sp.init_printing(\n",
    "    use_latex=True,\n",
    "    pretty_print=True,\n",
    "    use_unicode=True,\n",
    "    latex_mode=\"equation\",\n",
    "    fontsize=48)\n",
    "\n",
    "from IPython.display import HTML\n",
    "\n",
    "from sympy import Function, dsolve, Derivative, checkodesol, Eq"
   ]
  },
  {
   "cell_type": "code",
   "execution_count": null,
   "id": "094c8aaf",
   "metadata": {},
   "outputs": [],
   "source": [
    "# v = 1 / y"
   ]
  },
  {
   "cell_type": "code",
   "execution_count": null,
   "id": "20b68864",
   "metadata": {},
   "outputs": [],
   "source": [
    "x = sp.Symbol('x', real=True)\n",
    "k = sp.Symbol('k', real=True)\n",
    "R = sp.Symbol('R', real=True)\n",
    "\n",
    "# y > 0\n",
    "y = Function('y')(x)\n",
    "yp = y.diff(x)\n",
    "# eq = (1 / y) / sp.sqrt(1+yp**2) - k\n",
    "eq = (y**2)*(1 + yp**2) - R**2\n",
    "result = dsolve(eq, y)"
   ]
  },
  {
   "cell_type": "code",
   "execution_count": 8,
   "id": "93f05fd3",
   "metadata": {},
   "outputs": [
    {
     "data": {
      "text/html": [
       "<h2>Solution to the ODE</h2>"
      ],
      "text/plain": [
       "<IPython.core.display.HTML object>"
      ]
     },
     "metadata": {},
     "output_type": "display_data"
    },
    {
     "data": {
      "image/png": "[encoded data removed]",
      "text/latex": [
       "\\begin{equation}y{\\left(x \\right)} = - \\sqrt{- C_{1}^{2} + 2 C_{1} x + R^{2} - x^{2}}\\end{equation}"
      ],
      "text/plain": [
       "           __________________________\n",
       "          ╱     2             2    2 \n",
       "y(x) = -╲╱  - C₁  + 2⋅C₁⋅x + R  - x  "
      ]
     },
     "metadata": {},
     "output_type": "display_data"
    },
    {
     "data": {
      "image/png": "[encoded data removed]",
      "text/latex": [
       "\\begin{equation}y{\\left(x \\right)} = \\sqrt{- C_{1}^{2} + 2 C_{1} x + R^{2} - x^{2}}\\end{equation}"
      ],
      "text/plain": [
       "          __________________________\n",
       "         ╱     2             2    2 \n",
       "y(x) = ╲╱  - C₁  + 2⋅C₁⋅x + R  - x  "
      ]
     },
     "metadata": {},
     "output_type": "display_data"
    },
    {
     "data": {
      "image/png": "[encoded data removed]",
      "text/latex": [
       "\\begin{equation}y{\\left(x \\right)} = - \\sqrt{- C_{1}^{2} - 2 C_{1} x + R^{2} - x^{2}}\\end{equation}"
      ],
      "text/plain": [
       "           __________________________\n",
       "          ╱     2             2    2 \n",
       "y(x) = -╲╱  - C₁  - 2⋅C₁⋅x + R  - x  "
      ]
     },
     "metadata": {},
     "output_type": "display_data"
    },
    {
     "data": {
      "image/png": "[encoded data removed]",
      "text/latex": [
       "\\begin{equation}y{\\left(x \\right)} = \\sqrt{- C_{1}^{2} - 2 C_{1} x + R^{2} - x^{2}}\\end{equation}"
      ],
      "text/plain": [
       "          __________________________\n",
       "         ╱     2             2    2 \n",
       "y(x) = ╲╱  - C₁  - 2⋅C₁⋅x + R  - x  "
      ]
     },
     "metadata": {},
     "output_type": "display_data"
    }
   ],
   "source": [
    "display(HTML(\"<h2>Solution to the ODE</h2>\"))\n",
    "for e in result:\n",
    "    display(simplify(e))"
   ]
  },
  {
   "cell_type": "code",
   "execution_count": null,
   "id": "0e85c541",
   "metadata": {},
   "outputs": [],
   "source": [
    "# 习题15\n",
    "x = sp.Symbol('x', real=True)\n",
    "k = sp.Symbol('k', real=True)\n",
    "\n",
    "y = Function('y')(x)\n",
    "yp = y.diff(x)\n",
    "eq = (k**2)*(yp**2) + y + k**2 - 1\n",
    "# eq = sp.sqrt(1-y) / sp.sqrt(1 + yp**2) - k\n",
    "result = dsolve(eq, y)"
   ]
  },
  {
   "cell_type": "code",
   "execution_count": 34,
   "id": "bbc05663",
   "metadata": {},
   "outputs": [
    {
     "name": "stdout",
     "output_type": "stream",
     "text": [
      "<class 'sympy.core.relational.Equality'>\n"
     ]
    },
    {
     "data": {
      "image/png": "[encoded data removed]",
      "text/latex": [
       "\\begin{equation}y{\\left(x \\right)} = - \\frac{C_{1}^{2}}{4} + \\frac{C_{1} x}{2 k} - k^{2} + 1 - \\frac{x^{2}}{4 k^{2}}\\end{equation}"
      ],
      "text/plain": [
       "           2                     2 \n",
       "         C₁    C₁⋅x    2        x  \n",
       "y(x) = - ─── + ──── - k  + 1 - ────\n",
       "          4    2⋅k                2\n",
       "                               4⋅k "
      ]
     },
     "metadata": {},
     "output_type": "display_data"
    },
    {
     "name": "stdout",
     "output_type": "stream",
     "text": [
      "<class 'sympy.core.relational.Equality'>\n"
     ]
    },
    {
     "data": {
      "image/png": "[encoded data removed]",
      "text/latex": [
       "\\begin{equation}C_{1} + \\frac{x}{k} = - 2 \\sqrt{- k^{2} - y{\\left(x \\right)} + 1}\\end{equation}"
      ],
      "text/plain": [
       "               _________________\n",
       "     x        ╱    2            \n",
       "C₁ + ─ = -2⋅╲╱  - k  - y(x) + 1 \n",
       "     k                          "
      ]
     },
     "metadata": {},
     "output_type": "display_data"
    }
   ],
   "source": [
    "for e in result:\n",
    "    print(type(e))\n",
    "    display(simplify(e))"
   ]
  },
  {
   "cell_type": "code",
   "execution_count": 32,
   "id": "c6e9a115",
   "metadata": {},
   "outputs": [
    {
     "data": {
      "text/plain": [
       "(True, 0)"
      ]
     },
     "execution_count": 32,
     "metadata": {},
     "output_type": "execute_result"
    }
   ],
   "source": [
    "checkodesol(eq, result[1])"
   ]
  },
  {
   "cell_type": "code",
   "execution_count": 73,
   "id": "84324d76",
   "metadata": {},
   "outputs": [
    {
     "data": {
      "image/png": "[encoded data removed]",
      "text/latex": [
       "\\begin{equation}\\frac{\\left(- 2 C k + 2 x\\right)^{2}}{16 k^{2}} - \\frac{\\left(- C k + x\\right)^{2}}{4 k^{2}}\\end{equation}"
      ],
      "text/plain": [
       "              2             2\n",
       "(-2⋅C⋅k + 2⋅x)    (-C⋅k + x) \n",
       "─────────────── - ───────────\n",
       "         2              2    \n",
       "     16⋅k            4⋅k     "
      ]
     },
     "metadata": {},
     "output_type": "display_data"
    },
    {
     "data": {
      "image/png": "[encoded data removed]",
      "text/latex": [
       "\\begin{equation}0\\end{equation}"
      ],
      "text/plain": [
       "0"
      ]
     },
     "metadata": {},
     "output_type": "display_data"
    }
   ],
   "source": [
    "# Check the solution\n",
    "x, k, C = sp.symbols('x,k,C', real=True)\n",
    "\n",
    "def z(x):\n",
    "    return -1 / (4*(k**2))*(x-k*C)**2 - k**2 + 1\n",
    "\n",
    "# eq = (k**2)*(yp**2) + y + k**2 - 1\n",
    "check = (k**2)*((sp.diff(z(x), x))**2) + z(x) + k**2 - 1\n",
    "\n",
    "display(check)\n",
    "display(simplify(check))"
   ]
  },
  {
   "cell_type": "code",
   "execution_count": 76,
   "id": "4fdf1585",
   "metadata": {},
   "outputs": [
    {
     "data": {
      "text/plain": [
       "Text(0, 0.5, 'y')"
      ]
     },
     "execution_count": 76,
     "metadata": {},
     "output_type": "execute_result"
    },
    {
     "data": {
      "image/png": "[encoded data removed]",
      "text/plain": [
       "<Figure size 500x300 with 1 Axes>"
      ]
     },
     "metadata": {},
     "output_type": "display_data"
    }
   ],
   "source": [
    "import numpy as np\n",
    "import matplotlib.pyplot as plt\n",
    "\n",
    "x = np.linspace(-4., 4., 100)\n",
    "\n",
    "C, k = 0.5, 1.0  # 常数C和k的值\n",
    "y = -1 / (4*(k**2))*(x-k*C)**2 - k**2 + 1\n",
    "\n",
    "# 创建图形和坐标轴\n",
    "plt.figure(figsize=(5, 3))\n",
    "\n",
    "# 绘制函数曲线\n",
    "plt.plot(x, y, label='', color='blue', linewidth=2)\n",
    "\n",
    "# 添加标题和标签\n",
    "# plt.title('', fontsize=16)\n",
    "plt.xlabel('x', fontsize=14)\n",
    "plt.ylabel('y', fontsize=14)"
   ]
  },
  {
   "cell_type": "code",
   "execution_count": null,
   "id": "7c73cd0e",
   "metadata": {},
   "outputs": [
    {
     "data": {
      "image/png": "[encoded data removed]",
      "text/latex": [
       "\\begin{equation}\\left[\\begin{matrix}- \\tanh{\\left(t \\right)} \\operatorname{sech}{\\left(t \\right)}\\\\\\tanh^{2}{\\left(t \\right)}\\end{matrix}\\right]\\end{equation}"
      ],
      "text/plain": [
       "⎡-tanh(t)⋅sech(t)⎤\n",
       "⎢                ⎥\n",
       "⎢        2       ⎥\n",
       "⎣    tanh (t)    ⎦"
      ]
     },
     "metadata": {},
     "output_type": "display_data"
    },
    {
     "data": {
      "image/png": "[encoded data removed]",
      "text/latex": [
       "\\begin{equation}\\frac{1.0 \\tanh{\\left(t \\right)} \\operatorname{sech}{\\left(t \\right)}}{\\sqrt{\\tanh^{4}{\\left(t \\right)} + \\tanh^{2}{\\left(t \\right)} \\operatorname{sech}^{2}{\\left(t \\right)}}}\\end{equation}"
      ],
      "text/plain": [
       "       1.0⋅tanh(t)⋅sech(t)       \n",
       "─────────────────────────────────\n",
       "   ______________________________\n",
       "  ╱     4          2        2    \n",
       "╲╱  tanh (t) + tanh (t)⋅sech (t) "
      ]
     },
     "metadata": {},
     "output_type": "display_data"
    },
    {
     "data": {
      "image/png": "[encoded data removed]",
      "text/latex": [
       "\\begin{equation}\\frac{1.0 \\sqrt{\\tanh^{4}{\\left(t \\right)} + \\tanh^{2}{\\left(t \\right)} \\operatorname{sech}^{2}{\\left(t \\right)}}}{\\tanh{\\left(t \\right)}}\\end{equation}"
      ],
      "text/plain": [
       "       ______________________________\n",
       "      ╱     4          2        2    \n",
       "1.0⋅╲╱  tanh (t) + tanh (t)⋅sech (t) \n",
       "─────────────────────────────────────\n",
       "               tanh(t)               "
      ]
     },
     "metadata": {},
     "output_type": "display_data"
    },
    {
     "data": {
      "image/png": "[encoded data removed]",
      "text/latex": [
       "\\begin{equation}\\frac{1.0 \\left|{\\tanh{\\left(t \\right)}}\\right|}{\\tanh{\\left(t \\right)}}\\end{equation}"
      ],
      "text/plain": [
       "1.0⋅│tanh(t)│\n",
       "─────────────\n",
       "   tanh(t)   "
      ]
     },
     "metadata": {},
     "output_type": "display_data"
    }
   ],
   "source": [
    "# 习题16 (i)\n",
    "t = sp.Symbol('t', real=True)\n",
    "\n",
    "x, z = sp.sech(t), t - sp.tanh(t)\n",
    "v = sp.Matrix([x, z])\n",
    "# tangent vector\n",
    "vt = v.diff(t)\n",
    "display(vt)\n",
    "x0 = sp.Matrix([-1.0, 0.])\n",
    "\n",
    "cos_phi = vt.dot(x0) / (vt.norm() * x0.norm())\n",
    "display(cos_phi)\n",
    "\n",
    "# distance from (x, z) to z-axis\n",
    "d = x / cos_phi\n",
    "\n",
    "display(d)\n",
    "display(simplify(d))"
   ]
  },
  {
   "cell_type": "code",
   "execution_count": 114,
   "id": "933d2cde",
   "metadata": {},
   "outputs": [
    {
     "data": {
      "image/png": "[encoded data removed]",
      "text/latex": [
       "\\begin{equation}-1\\end{equation}"
      ],
      "text/plain": [
       "-1"
      ]
     },
     "metadata": {},
     "output_type": "display_data"
    }
   ],
   "source": [
    "# 习题16 (iii)\n",
    "t = sp.Symbol('t', real=True)\n",
    "\n",
    "A, B = sp.tanh(t), sp.sech(t)\n",
    "K =  -1 / (A*B) * (sp.diff(sp.diff(B, t) / A, t))\n",
    "\n",
    "display(K)\n"
   ]
  }
 ],
 "metadata": {
  "kernelspec": {
   "display_name": "py310",
   "language": "python",
   "name": "python3"
  },
  "language_info": {
   "codemirror_mode": {
    "name": "ipython",
    "version": 3
   },
   "file_extension": ".py",
   "mimetype": "text/x-python",
   "name": "python",
   "nbconvert_exporter": "python",
   "pygments_lexer": "ipython3",
   "version": "3.10.13"
  }
 },
 "nbformat": 4,
 "nbformat_minor": 5
}
